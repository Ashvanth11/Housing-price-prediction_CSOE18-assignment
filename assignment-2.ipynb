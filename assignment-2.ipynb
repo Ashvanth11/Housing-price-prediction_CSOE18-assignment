{
 "cells": [
  {
   "cell_type": "markdown",
   "id": "2f389db3",
   "metadata": {},
   "source": [
    "## importing required libraries"
   ]
  },
  {
   "cell_type": "code",
   "execution_count": 1,
   "id": "e8a311bb",
   "metadata": {},
   "outputs": [],
   "source": [
    "from pandas import read_csv\n",
    "from sklearn.model_selection import train_test_split\n",
    "from sklearn.linear_model import LinearRegression\n",
    "from mlxtend.evaluate import bias_variance_decomp\n",
    "from sklearn.model_selection import train_test_split\n",
    "from sklearn.feature_selection import SelectKBest\n",
    "from sklearn.feature_selection import f_regression\n",
    "from matplotlib import pyplot"
   ]
  },
  {
   "cell_type": "markdown",
   "id": "64288fc3",
   "metadata": {},
   "source": [
    "## loading datset and defining the model"
   ]
  },
  {
   "cell_type": "code",
   "execution_count": 2,
   "id": "941a95a1",
   "metadata": {},
   "outputs": [
    {
     "data": {
      "text/plain": [
       "LinearRegression()"
      ]
     },
     "execution_count": 2,
     "metadata": {},
     "output_type": "execute_result"
    }
   ],
   "source": [
    "# load dataset\n",
    "url = 'https://raw.githubusercontent.com/jbrownlee/Datasets/master/housing.csv'\n",
    "dataframe = read_csv(url, header=None)\n",
    "# separate into inputs and outputs\n",
    "data = dataframe.values\n",
    "X, y = data[:, :-1], data[:, -1]\n",
    "# split the data\n",
    "X_train, X_test, y_train, y_test = train_test_split(X, y, test_size=1, random_state=1)\n",
    "# define the model\n",
    "model = LinearRegression()\n",
    "LinearRegression()\n",
    "# we have chosen the Linear Regression model"
   ]
  },
  {
   "cell_type": "markdown",
   "id": "8005c50b",
   "metadata": {},
   "source": [
    "## calculating bias and variance "
   ]
  },
  {
   "cell_type": "code",
   "execution_count": 3,
   "id": "a2ea24a4",
   "metadata": {},
   "outputs": [
    {
     "name": "stdout",
     "output_type": "stream",
     "text": [
      "Bias: 20.803\n",
      "Variance: 0.621\n"
     ]
    }
   ],
   "source": [
    "# estimate bias and variance\n",
    "mse, bias, var = bias_variance_decomp(model, X_train, y_train, X_test, y_test, loss='mse', num_rounds=400, random_seed=1)\n",
    "# summarize results\n",
    "\n",
    "print('Bias: %.3f' % bias)\n",
    "print('Variance: %.3f' % var)"
   ]
  },
  {
   "cell_type": "markdown",
   "id": "19c5ec42",
   "metadata": {},
   "source": [
    "## feature selection"
   ]
  },
  {
   "cell_type": "code",
   "execution_count": 4,
   "id": "3b9b3ba1",
   "metadata": {},
   "outputs": [
    {
     "name": "stdout",
     "output_type": "stream",
     "text": [
      "Feature 0: 89.149227\n",
      "Feature 1: 74.777611\n",
      "Feature 2: 153.155127\n",
      "Feature 3: 16.017253\n",
      "Feature 4: 112.049260\n",
      "Feature 5: 470.189277\n",
      "Feature 6: 83.424428\n",
      "Feature 7: 33.647797\n",
      "Feature 8: 85.648217\n",
      "Feature 9: 141.010467\n",
      "Feature 10: 174.906875\n",
      "Feature 11: 62.781011\n",
      "Feature 12: 599.629263\n"
     ]
    },
    {
     "data": {
      "image/png": "[encoded data removed]",
      "text/plain": [
       "<Figure size 432x288 with 1 Axes>"
      ]
     },
     "metadata": {
      "needs_background": "light"
     },
     "output_type": "display_data"
    }
   ],
   "source": [
    "# feature selection\n",
    "def select_features(X_train, y_train, X_test):\n",
    "\t# configure to select 9 features\n",
    "\tfs = SelectKBest(score_func=f_regression, k=9)\n",
    "\t# learn relationship from training data\n",
    "\tfs.fit(X_train, y_train)\n",
    "\t# transform train input data\n",
    "\tX_train_fs = fs.transform(X_train)\n",
    "\t# transform test input data\n",
    "\tX_test_fs = fs.transform(X_test)\n",
    "\treturn X_train_fs, X_test_fs, fs\n",
    " \n",
    "\n",
    "# feature selection\n",
    "X_train_fs, X_test_fs, fs = select_features(X_train, y_train, X_test)\n",
    "# what are scores for the features\n",
    "for i in range(len(fs.scores_)):\n",
    "\tprint('Feature %d: %f' % (i, fs.scores_[i]))\n",
    "# plot the scores\n",
    "pyplot.bar([i for i in range(len(fs.scores_))], fs.scores_)\n",
    "pyplot.show()\n",
    "\n",
    "#we have chosen 9 features"
   ]
  },
  {
   "cell_type": "markdown",
   "id": "a49b0283",
   "metadata": {},
   "source": [
    "## calculating bias and variance using selected features"
   ]
  },
  {
   "cell_type": "code",
   "execution_count": 5,
   "id": "97ac9c7e",
   "metadata": {},
   "outputs": [
    {
     "name": "stdout",
     "output_type": "stream",
     "text": [
      "Bias: 2.967\n",
      "Variance: 0.328\n"
     ]
    }
   ],
   "source": [
    "model = LinearRegression()\n",
    "# estimate bias and variance\n",
    "mse, bias, var = bias_variance_decomp(model, X_train_fs, y_train, X_test_fs, y_test, loss='mse', num_rounds=400, random_seed=1)\n",
    "# summarize results\n",
    "\n",
    "print('Bias: %.3f' % bias)\n",
    "print('Variance: %.3f' % var)"
   ]
  },
  {
   "cell_type": "code",
   "execution_count": 6,
   "id": "13f19d17",
   "metadata": {},
   "outputs": [],
   "source": [
    "# it is evident that bias and variance has decreased."
   ]
  },
  {
   "cell_type": "code",
   "execution_count": null,
   "id": "b2a4d091",
   "metadata": {},
   "outputs": [],
   "source": []
  }
 ],
 "metadata": {
  "kernelspec": {
   "display_name": "Python 3 (ipykernel)",
   "language": "python",
   "name": "python3"
  },
  "language_info": {
   "codemirror_mode": {
    "name": "ipython",
    "version": 3
   },
   "file_extension": ".py",
   "mimetype": "text/x-python",
   "name": "python",
   "nbconvert_exporter": "python",
   "pygments_lexer": "ipython3",
   "version": "3.9.7"
  }
 },
 "nbformat": 4,
 "nbformat_minor": 5
}
